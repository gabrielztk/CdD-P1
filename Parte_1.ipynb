{
 "cells": [
  {
   "cell_type": "markdown",
   "metadata": {},
   "source": [
    "# Dados\n",
    "## HDI - Human Development Index\n",
    "## High Technology Exports - Percent of manufactured exports\n",
    "## Individuals using the Internet - Percent of population"
   ]
  },
  {
   "cell_type": "markdown",
   "metadata": {},
   "source": [
    "# Pergunta:\n",
    "\n",
    "É possível prever a porcentagem da população de um país que usa a internet, a partir do seu IDH?\n",
    "Pode-se fazer o mesmo com a taxa de exportações de alta tecnologia?"
   ]
  },
  {
   "cell_type": "code",
   "execution_count": 2,
   "metadata": {},
   "outputs": [],
   "source": [
    "%matplotlib inline\n",
    "import pandas as pd\n",
    "import numpy as np\n",
    "import math as math\n",
    "from scipy import stats\n",
    "import matplotlib.pyplot as plt"
   ]
  },
  {
   "cell_type": "code",
   "execution_count": 3,
   "metadata": {},
   "outputs": [],
   "source": [
    "#Leitura dos arquivos em Excel\n",
    "HDI = pd.read_excel('hdi_human_development_index.xlsx')\n",
    "tech = pd.read_excel('high_technology_exports_percent_of_manufactured_exports.xlsx')\n",
    "internet = pd.read_excel('internet_users.xlsx')"
   ]
  },
  {
   "cell_type": "code",
   "execution_count": 4,
   "metadata": {},
   "outputs": [],
   "source": [
    "#Mudança de index\n",
    "HDI_idx = HDI.set_index('Country')\n",
    "tech_idx = tech.set_index('Country')\n",
    "internet_idx = internet.set_index('Country')"
   ]
  },
  {
   "cell_type": "code",
   "execution_count": 5,
   "metadata": {},
   "outputs": [],
   "source": [
    "#Pegando apenas os anos releventes\n",
    "anos = np.arange(2001, 2016)\n",
    "HDI_cut = HDI_idx.loc[:, anos]\n",
    "tech_cut = tech_idx.loc[:, anos]\n",
    "internet_cut = internet_idx.loc[:, anos]"
   ]
  },
  {
   "cell_type": "code",
   "execution_count": 6,
   "metadata": {},
   "outputs": [],
   "source": [
    "#Renomeando as colunas\n",
    "HDI_r = HDI_cut.rename(index=str, columns=lambda column: \"IDH em \" + str(column))\n",
    "tech_r = tech_cut.rename(index=str, columns=lambda column: \"Exportação de tecnologia em \" + str(column))\n",
    "internet_r = internet_cut.rename(index=str, columns=lambda column: \"Usuários de internet em \" + str(column))"
   ]
  },
  {
   "cell_type": "code",
   "execution_count": 7,
   "metadata": {},
   "outputs": [],
   "source": [
    "#Juntando os data frames\n",
    "Y = HDI_r.join(tech_r)\n",
    "junto = Y.join(internet_r)"
   ]
  },
  {
   "cell_type": "code",
   "execution_count": 8,
   "metadata": {},
   "outputs": [],
   "source": [
    "#Removendo os NAN\n",
    "final = junto.dropna(axis=0)"
   ]
  },
  {
   "cell_type": "code",
   "execution_count": 9,
   "metadata": {},
   "outputs": [],
   "source": [
    "#Salvando \n",
    "final.to_excel(\"Data.xlsx\")\n",
    "final.to_csv(\"Data.csv\")"
   ]
  }
 ],
 "metadata": {
  "kernelspec": {
   "display_name": "Python 3",
   "language": "python",
   "name": "python3"
  },
  "language_info": {
   "codemirror_mode": {
    "name": "ipython",
    "version": 3
   },
   "file_extension": ".py",
   "mimetype": "text/x-python",
   "name": "python",
   "nbconvert_exporter": "python",
   "pygments_lexer": "ipython3",
   "version": "3.6.4"
  }
 },
 "nbformat": 4,
 "nbformat_minor": 2
}
