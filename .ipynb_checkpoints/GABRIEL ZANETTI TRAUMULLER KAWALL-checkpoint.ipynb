{
 "cells": [
  {
   "cell_type": "code",
   "execution_count": 141,
   "metadata": {},
   "outputs": [],
   "source": [
    "#Dados\n",
    "#HDI - Human Development Index\n",
    "#High Technology Exports - Percent of manufactured exports\n",
    "#Individuals using the Internet - Percent of population"
   ]
  },
  {
   "cell_type": "code",
   "execution_count": null,
   "metadata": {},
   "outputs": [],
   "source": [
    "#Pergunta\n",
    "#A capacidade de um pais de exportar manufaturados de alta técnologia, está de alguma forma ligada ao IDH, ou a quantos \n",
    "#individuos têm acesso à internet em um pais?"
   ]
  },
  {
   "cell_type": "code",
   "execution_count": 142,
   "metadata": {},
   "outputs": [],
   "source": [
    "%matplotlib inline\n",
    "import pandas as pd\n",
    "import numpy as np\n",
    "import math as math\n",
    "from scipy import stats\n",
    "import matplotlib.pyplot as plt"
   ]
  },
  {
   "cell_type": "code",
   "execution_count": 143,
   "metadata": {},
   "outputs": [],
   "source": [
    "#Leitura dos arquivos em Excel\n",
    "HDI = pd.read_excel('hdi_human_development_index.xlsx')\n",
    "tech = pd.read_excel('high_technology_exports_percent_of_manufactured_exports.xlsx')\n",
    "internet = pd.read_excel('internet_users.xlsx')"
   ]
  },
  {
   "cell_type": "code",
   "execution_count": 144,
   "metadata": {},
   "outputs": [],
   "source": [
    "#Mudança de index\n",
    "HDI_idx = HDI.set_index('geo')\n",
    "tech_idx = tech.set_index('geo')\n",
    "internet_idx = internet.set_index('geo')"
   ]
  },
  {
   "cell_type": "code",
   "execution_count": 145,
   "metadata": {},
   "outputs": [],
   "source": [
    "#Pegando apenas os anos releventes\n",
    "anos = np.arange(2001, 2016)\n",
    "HDI_cut = HDI_idx.loc[:, anos]\n",
    "tech_cut = tech_idx.loc[:, anos]\n",
    "internet_cut = internet_idx.loc[:, anos]"
   ]
  },
  {
   "cell_type": "code",
   "execution_count": 146,
   "metadata": {},
   "outputs": [],
   "source": [
    "#Renomeando as colunas\n",
    "HDI_r = HDI_cut.rename(index=str, columns=lambda column: \"HDI in \" + str(column))\n",
    "tech_r = tech_cut.rename(index=str, columns=lambda column: \"Tech exports in \" + str(column))\n",
    "internet_r = internet_cut.rename(index=str, columns=lambda column: \"Internet users in \" + str(column))"
   ]
  },
  {
   "cell_type": "code",
   "execution_count": 147,
   "metadata": {},
   "outputs": [],
   "source": [
    "#Juntando os data frames\n",
    "Y = HDI_r.join(tech_r)\n",
    "junto = Y.join(internet_r)"
   ]
  },
  {
   "cell_type": "code",
   "execution_count": 148,
   "metadata": {},
   "outputs": [],
   "source": [
    "#Removendo os NAN\n",
    "final = junto.dropna(axis=0)"
   ]
  },
  {
   "cell_type": "code",
   "execution_count": 149,
   "metadata": {},
   "outputs": [],
   "source": [
    "#Salvando \n",
    "final.to_excel(\"Junto.xlsx\")\n",
    "final.to_csv(\"Junto.csv\")"
   ]
  }
 ],
 "metadata": {
  "kernelspec": {
   "display_name": "Python 3",
   "language": "python",
   "name": "python3"
  },
  "language_info": {
   "codemirror_mode": {
    "name": "ipython",
    "version": 3
   },
   "file_extension": ".py",
   "mimetype": "text/x-python",
   "name": "python",
   "nbconvert_exporter": "python",
   "pygments_lexer": "ipython3",
   "version": "3.6.4"
  }
 },
 "nbformat": 4,
 "nbformat_minor": 2
}
