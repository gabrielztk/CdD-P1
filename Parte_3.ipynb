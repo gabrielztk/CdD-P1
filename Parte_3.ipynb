{
 "cells": [
  {
   "cell_type": "code",
   "execution_count": 1,
   "metadata": {},
   "outputs": [],
   "source": [
    "%matplotlib inline\n",
    "import pandas as pd\n",
    "import numpy as np\n",
    "import math as math\n",
    "from scipy import stats\n",
    "import matplotlib.pyplot as plt"
   ]
  },
  {
   "cell_type": "code",
   "execution_count": 2,
   "metadata": {},
   "outputs": [],
   "source": [
    "def reta(dados_x, dados_y, titulo, label_x, label_y):    \n",
    "    a = dados_y.cov(dados_x) / dados_x.var()\n",
    "    b = dados_y.mean() - a*dados_x.mean()\n",
    " \n",
    "    print(\"Taxa de correlaçâo:\", '%06.4f' % (dados_x.corr(dados_y)))\n",
    "    print(\"Coeficiente angular da reta:\", '%06.4f' % (a))\n",
    "    \n",
    " \n",
    "    fig = plt.figure(figsize=(8, 6))\n",
    "    plt.scatter(dados_x, dados_y, c='red', alpha=0.8)\n",
    "    plt.title(titulo)\n",
    "    plt.xlabel(label_x)\n",
    "    plt.ylabel(label_y)\n",
    " \n",
    "    plt.plot((dados_x.min(), dados_x.max()), (a*dados_x.min()+b, a*dados_x.max()+b), color='blue')\n",
    " \n",
    "    plt.tight_layout()\n",
    "    plt.legend()\n",
    "    plt.show()"
   ]
  },
  {
   "cell_type": "code",
   "execution_count": 3,
   "metadata": {},
   "outputs": [],
   "source": [
    "def box(dados):\n",
    "    print(\"A mediana desta seleção de dados é: {0}%\".format('%06.4f' % dados.median()))\n",
    "    print(\"A média desta seleção de dados é: {0}%\".format('%06.4f' % dados.mean()))\n",
    "    dados.plot.box()"
   ]
  },
  {
   "cell_type": "code",
   "execution_count": 4,
   "metadata": {},
   "outputs": [],
   "source": [
    "def tudo(anoI, anoF, nomeX, nomeY, data_set, titulo, label_x, label_y):\n",
    "    lista = np.arange(anoI, anoF+1)\n",
    "    fig = plt.figure(figsize=(16, 12))\n",
    "    for d in lista:\n",
    "\n",
    "        dados_x = data_set[nomeX + str(d)]\n",
    "        dados_y = data_set[nomeY + str(d)]\n",
    "        \n",
    "        a = dados_y.cov(dados_x) / dados_x.var()\n",
    "        b = dados_y.mean() - a*dados_x.mean()\n",
    "        \n",
    "        print(\"Taxa de correlaçâo em {0}:\".format(d), '%06.4f' % (dados_x.corr(dados_y)))\n",
    "        print(\"Coeficiente angular da reta em {0}:\".format(d), '%06.4f' % (a))\n",
    "        print(\" \")\n",
    "        \n",
    "        plt.scatter(dados_x, dados_y, alpha=0.8)\n",
    "        plt.plot((dados_x.min(), dados_x.max()), (a*dados_x.min()+b, a*dados_x.max()+b))\n",
    "    \n",
    "    plt.tight_layout()\n",
    "    plt.title(titulo)\n",
    "    plt.xlabel(label_x)\n",
    "    plt.ylabel(label_y)\n",
    "    plt.legend()\n",
    "    plt.grid()\n",
    "    plt.show()"
   ]
  },
  {
   "cell_type": "code",
   "execution_count": 5,
   "metadata": {},
   "outputs": [],
   "source": [
    "def vez(anoI, anoF, nomeX, nomeY, data_set, titulo, label_x, label_y):\n",
    "    lista = np.arange(anoI, anoF+1)\n",
    "    fig = plt.figure(figsize=(16, 12))\n",
    "    for d in lista:\n",
    "        \n",
    "        dados_x = data_set[nomeX + str(d)]\n",
    "        dados_y = data_set[nomeY + str(d)]\n",
    "       \n",
    "        a = dados_y.cov(dados_x) / dados_x.var()\n",
    "        b = dados_y.mean() - a*dados_x.mean()\n",
    " \n",
    "        plt.scatter(dados_x, dados_y, alpha=0.8)\n",
    "        plt.plot((dados_x.min(), dados_x.max()), (a*dados_x.min()+b, a*dados_x.max()+b))\n",
    "    \n",
    "        plt.tight_layout()\n",
    "        plt.title(titulo)\n",
    "        plt.xlabel(label_x)\n",
    "        plt.ylabel(label_y)\n",
    "        plt.legend()\n",
    "        plt.grid()\n",
    "        plt.show()"
   ]
  }
 ],
 "metadata": {
  "kernelspec": {
   "display_name": "Python 3",
   "language": "python",
   "name": "python3"
  },
  "language_info": {
   "codemirror_mode": {
    "name": "ipython",
    "version": 3
   },
   "file_extension": ".py",
   "mimetype": "text/x-python",
   "name": "python",
   "nbconvert_exporter": "python",
   "pygments_lexer": "ipython3",
   "version": "3.6.4"
  }
 },
 "nbformat": 4,
 "nbformat_minor": 2
}
