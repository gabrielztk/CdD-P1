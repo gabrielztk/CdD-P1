{
 "cells": [
  {
   "cell_type": "markdown",
   "metadata": {},
   "source": [
    "# Dados\n",
    "## HDI - Human Development Index\n",
    "## High Technology Exports - Percent of manufactured exports\n",
    "## Individuals using the Internet - Percent of population"
   ]
  },
  {
   "cell_type": "code",
   "execution_count": 2,
   "metadata": {},
   "outputs": [],
   "source": [
    "%matplotlib inline\n",
    "import pandas as pd\n",
    "import numpy as np\n",
    "import math as math\n",
    "from scipy import stats\n",
    "import matplotlib.pyplot as plt"
   ]
  },
  {
   "cell_type": "code",
   "execution_count": 3,
   "metadata": {},
   "outputs": [],
   "source": [
    "#Leitura dos arquivos em Excel\n",
    "HDI = pd.read_excel('hdi_human_development_index.xlsx')\n",
    "tech = pd.read_excel('high_technology_exports_percent_of_manufactured_exports.xlsx')\n",
    "internet = pd.read_excel('internet_users.xlsx')"
   ]
  },
  {
   "cell_type": "code",
   "execution_count": 4,
   "metadata": {},
   "outputs": [],
   "source": [
    "#Mudança de index\n",
    "HDI_idx = HDI.set_index('Country')\n",
    "tech_idx = tech.set_index('Country')\n",
    "internet_idx = internet.set_index('Country')"
   ]
  },
  {
   "cell_type": "code",
   "execution_count": 5,
   "metadata": {},
   "outputs": [],
   "source": [
    "#Pegando apenas os anos releventes\n",
    "anos = np.arange(2001, 2016)\n",
    "HDI_cut = HDI_idx.loc[:, anos]\n",
    "tech_cut = tech_idx.loc[:, anos]\n",
    "internet_cut = internet_idx.loc[:, anos]"
   ]
  },
  {
   "cell_type": "code",
   "execution_count": 6,
   "metadata": {},
   "outputs": [],
   "source": [
    "#Renomeando as colunas\n",
    "HDI_r = HDI_cut.rename(index=str, columns=lambda column: \"IDH em \" + str(column))\n",
    "tech_r = tech_cut.rename(index=str, columns=lambda column: \"Exportação de tecnologia em \" + str(column))\n",
    "internet_r = internet_cut.rename(index=str, columns=lambda column: \"Usuários de internet em \" + str(column))"
   ]
  },
  {
   "cell_type": "code",
   "execution_count": 7,
   "metadata": {},
   "outputs": [],
   "source": [
    "#Juntando os data frames\n",
    "Y = HDI_r.join(tech_r)\n",
    "junto = Y.join(internet_r)"
   ]
  },
  {
   "cell_type": "code",
   "execution_count": 8,
   "metadata": {},
   "outputs": [],
   "source": [
    "#Removendo os NAN\n",
    "final = junto.dropna(axis=0)"
   ]
  },
  {
   "cell_type": "code",
   "execution_count": 9,
   "metadata": {},
   "outputs": [],
   "source": [
    "#Salvando \n",
    "final.to_excel(\"Data.xlsx\")\n",
    "final.to_csv(\"Data.csv\")"
   ]
  },
  {
   "cell_type": "code",
   "execution_count": 13,
   "metadata": {},
   "outputs": [
    {
     "data": {
      "text/html": [
       "<div>\n",
       "<style scoped>\n",
       "    .dataframe tbody tr th:only-of-type {\n",
       "        vertical-align: middle;\n",
       "    }\n",
       "\n",
       "    .dataframe tbody tr th {\n",
       "        vertical-align: top;\n",
       "    }\n",
       "\n",
       "    .dataframe thead th {\n",
       "        text-align: right;\n",
       "    }\n",
       "</style>\n",
       "<table border=\"1\" class=\"dataframe\">\n",
       "  <thead>\n",
       "    <tr style=\"text-align: right;\">\n",
       "      <th></th>\n",
       "      <th>IDH em 2001</th>\n",
       "      <th>IDH em 2002</th>\n",
       "      <th>IDH em 2003</th>\n",
       "      <th>IDH em 2004</th>\n",
       "      <th>IDH em 2005</th>\n",
       "      <th>IDH em 2006</th>\n",
       "      <th>IDH em 2007</th>\n",
       "      <th>IDH em 2008</th>\n",
       "      <th>IDH em 2009</th>\n",
       "      <th>IDH em 2010</th>\n",
       "      <th>...</th>\n",
       "      <th>Usuários de internet em 2006</th>\n",
       "      <th>Usuários de internet em 2007</th>\n",
       "      <th>Usuários de internet em 2008</th>\n",
       "      <th>Usuários de internet em 2009</th>\n",
       "      <th>Usuários de internet em 2010</th>\n",
       "      <th>Usuários de internet em 2011</th>\n",
       "      <th>Usuários de internet em 2012</th>\n",
       "      <th>Usuários de internet em 2013</th>\n",
       "      <th>Usuários de internet em 2014</th>\n",
       "      <th>Usuários de internet em 2015</th>\n",
       "    </tr>\n",
       "    <tr>\n",
       "      <th>Country</th>\n",
       "      <th></th>\n",
       "      <th></th>\n",
       "      <th></th>\n",
       "      <th></th>\n",
       "      <th></th>\n",
       "      <th></th>\n",
       "      <th></th>\n",
       "      <th></th>\n",
       "      <th></th>\n",
       "      <th></th>\n",
       "      <th></th>\n",
       "      <th></th>\n",
       "      <th></th>\n",
       "      <th></th>\n",
       "      <th></th>\n",
       "      <th></th>\n",
       "      <th></th>\n",
       "      <th></th>\n",
       "      <th></th>\n",
       "      <th></th>\n",
       "      <th></th>\n",
       "    </tr>\n",
       "  </thead>\n",
       "  <tbody>\n",
       "    <tr>\n",
       "      <th>Mozambique</th>\n",
       "      <td>0.311</td>\n",
       "      <td>0.318</td>\n",
       "      <td>0.332</td>\n",
       "      <td>0.341</td>\n",
       "      <td>0.353</td>\n",
       "      <td>0.360</td>\n",
       "      <td>0.372</td>\n",
       "      <td>0.382</td>\n",
       "      <td>0.390</td>\n",
       "      <td>0.397</td>\n",
       "      <td>...</td>\n",
       "      <td>0.843</td>\n",
       "      <td>0.91</td>\n",
       "      <td>1.56</td>\n",
       "      <td>2.68</td>\n",
       "      <td>4.17</td>\n",
       "      <td>4.3</td>\n",
       "      <td>6.00</td>\n",
       "      <td>7.29</td>\n",
       "      <td>9.24</td>\n",
       "      <td>16.90</td>\n",
       "    </tr>\n",
       "    <tr>\n",
       "      <th>Niger</th>\n",
       "      <td>0.261</td>\n",
       "      <td>0.266</td>\n",
       "      <td>0.270</td>\n",
       "      <td>0.278</td>\n",
       "      <td>0.286</td>\n",
       "      <td>0.293</td>\n",
       "      <td>0.298</td>\n",
       "      <td>0.307</td>\n",
       "      <td>0.312</td>\n",
       "      <td>0.323</td>\n",
       "      <td>...</td>\n",
       "      <td>0.294</td>\n",
       "      <td>0.39</td>\n",
       "      <td>0.70</td>\n",
       "      <td>0.76</td>\n",
       "      <td>0.83</td>\n",
       "      <td>1.3</td>\n",
       "      <td>1.41</td>\n",
       "      <td>1.70</td>\n",
       "      <td>1.95</td>\n",
       "      <td>2.48</td>\n",
       "    </tr>\n",
       "  </tbody>\n",
       "</table>\n",
       "<p>2 rows × 45 columns</p>\n",
       "</div>"
      ],
      "text/plain": [
       "            IDH em 2001  IDH em 2002  IDH em 2003  IDH em 2004  IDH em 2005  \\\n",
       "Country                                                                       \n",
       "Mozambique        0.311        0.318        0.332        0.341        0.353   \n",
       "Niger             0.261        0.266        0.270        0.278        0.286   \n",
       "\n",
       "            IDH em 2006  IDH em 2007  IDH em 2008  IDH em 2009  IDH em 2010  \\\n",
       "Country                                                                       \n",
       "Mozambique        0.360        0.372        0.382        0.390        0.397   \n",
       "Niger             0.293        0.298        0.307        0.312        0.323   \n",
       "\n",
       "                        ...               Usuários de internet em 2006  \\\n",
       "Country                 ...                                              \n",
       "Mozambique              ...                                      0.843   \n",
       "Niger                   ...                                      0.294   \n",
       "\n",
       "            Usuários de internet em 2007  Usuários de internet em 2008  \\\n",
       "Country                                                                  \n",
       "Mozambique                          0.91                          1.56   \n",
       "Niger                               0.39                          0.70   \n",
       "\n",
       "            Usuários de internet em 2009  Usuários de internet em 2010  \\\n",
       "Country                                                                  \n",
       "Mozambique                          2.68                          4.17   \n",
       "Niger                               0.76                          0.83   \n",
       "\n",
       "            Usuários de internet em 2011  Usuários de internet em 2012  \\\n",
       "Country                                                                  \n",
       "Mozambique                           4.3                          6.00   \n",
       "Niger                                1.3                          1.41   \n",
       "\n",
       "            Usuários de internet em 2013  Usuários de internet em 2014  \\\n",
       "Country                                                                  \n",
       "Mozambique                          7.29                          9.24   \n",
       "Niger                               1.70                          1.95   \n",
       "\n",
       "            Usuários de internet em 2015  \n",
       "Country                                   \n",
       "Mozambique                         16.90  \n",
       "Niger                               2.48  \n",
       "\n",
       "[2 rows x 45 columns]"
      ]
     },
     "execution_count": 13,
     "metadata": {},
     "output_type": "execute_result"
    }
   ],
   "source": [
    "final[(final[\"IDH em 2015\"] < 0.5) & (final[\"Exportação de tecnologia em 2015\"] > 10)]"
   ]
  },
  {
   "cell_type": "code",
   "execution_count": null,
   "metadata": {},
   "outputs": [],
   "source": []
  }
 ],
 "metadata": {
  "kernelspec": {
   "display_name": "Python 3",
   "language": "python",
   "name": "python3"
  },
  "language_info": {
   "codemirror_mode": {
    "name": "ipython",
    "version": 3
   },
   "file_extension": ".py",
   "mimetype": "text/x-python",
   "name": "python",
   "nbconvert_exporter": "python",
   "pygments_lexer": "ipython3",
   "version": "3.6.4"
  }
 },
 "nbformat": 4,
 "nbformat_minor": 2
}
